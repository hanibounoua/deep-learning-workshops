{
 "cells": [
  {
   "cell_type": "code",
   "execution_count": 66,
   "id": "6c4e5d2e",
   "metadata": {},
   "outputs": [],
   "source": [
    "import kagglehub\n",
    "import keras\n",
    "from keras import layers, regularizers\n",
    "from keras.callbacks import EarlyStopping\n",
    "import pandas as pd\n",
    "from os import path, listdir\n",
    "import numpy as np\n",
    "\n",
    "import matplotlib.pyplot as plt"
   ]
  },
  {
   "cell_type": "code",
   "execution_count": 2,
   "id": "b45faf85",
   "metadata": {},
   "outputs": [
    {
     "name": "stdout",
     "output_type": "stream",
     "text": [
      "Warning: Looks like you're using an outdated `kagglehub` version, please consider updating (latest version: 0.3.13)\n",
      "Path to dataset files: /home/hanibounoua/.cache/kagglehub/datasets/sudipmanchare/simulated-sales-data-with-timeseries-features/versions/2\n"
     ]
    },
    {
     "data": {
      "text/plain": [
       "['sales.csv']"
      ]
     },
     "execution_count": 2,
     "metadata": {},
     "output_type": "execute_result"
    }
   ],
   "source": [
    "\n",
    "# Download latest version\n",
    "pathdir = kagglehub.dataset_download(\"sudipmanchare/simulated-sales-data-with-timeseries-features\")\n",
    "\n",
    "print(\"Path to dataset files:\", pathdir)\n",
    "listdir(pathdir)[:5]"
   ]
  },
  {
   "cell_type": "code",
   "execution_count": 3,
   "id": "081f857a",
   "metadata": {},
   "outputs": [
    {
     "data": {
      "text/html": [
       "<div>\n",
       "<style scoped>\n",
       "    .dataframe tbody tr th:only-of-type {\n",
       "        vertical-align: middle;\n",
       "    }\n",
       "\n",
       "    .dataframe tbody tr th {\n",
       "        vertical-align: top;\n",
       "    }\n",
       "\n",
       "    .dataframe thead th {\n",
       "        text-align: right;\n",
       "    }\n",
       "</style>\n",
       "<table border=\"1\" class=\"dataframe\">\n",
       "  <thead>\n",
       "    <tr style=\"text-align: right;\">\n",
       "      <th></th>\n",
       "      <th>Unnamed: 0</th>\n",
       "      <th>Date</th>\n",
       "      <th>Sales</th>\n",
       "    </tr>\n",
       "  </thead>\n",
       "  <tbody>\n",
       "    <tr>\n",
       "      <th>0</th>\n",
       "      <td>0</td>\n",
       "      <td>2021-10-01</td>\n",
       "      <td>29.109547</td>\n",
       "    </tr>\n",
       "    <tr>\n",
       "      <th>1</th>\n",
       "      <td>1</td>\n",
       "      <td>2021-10-02</td>\n",
       "      <td>30.720435</td>\n",
       "    </tr>\n",
       "    <tr>\n",
       "      <th>2</th>\n",
       "      <td>2</td>\n",
       "      <td>2021-10-03</td>\n",
       "      <td>30.305173</td>\n",
       "    </tr>\n",
       "    <tr>\n",
       "      <th>3</th>\n",
       "      <td>3</td>\n",
       "      <td>2021-10-04</td>\n",
       "      <td>27.390893</td>\n",
       "    </tr>\n",
       "    <tr>\n",
       "      <th>4</th>\n",
       "      <td>4</td>\n",
       "      <td>2021-10-05</td>\n",
       "      <td>22.841123</td>\n",
       "    </tr>\n",
       "  </tbody>\n",
       "</table>\n",
       "</div>"
      ],
      "text/plain": [
       "   Unnamed: 0       Date      Sales\n",
       "0           0 2021-10-01  29.109547\n",
       "1           1 2021-10-02  30.720435\n",
       "2           2 2021-10-03  30.305173\n",
       "3           3 2021-10-04  27.390893\n",
       "4           4 2021-10-05  22.841123"
      ]
     },
     "execution_count": 3,
     "metadata": {},
     "output_type": "execute_result"
    }
   ],
   "source": [
    "df = pd.read_csv(path.join(pathdir, 'sales.csv'), date_format='%Y-%m-%d', parse_dates = ['Date'])\n",
    "df.head()"
   ]
  },
  {
   "cell_type": "code",
   "execution_count": 4,
   "id": "91f1e57a",
   "metadata": {},
   "outputs": [
    {
     "name": "stdout",
     "output_type": "stream",
     "text": [
      "<class 'pandas.core.frame.DataFrame'>\n",
      "RangeIndex: 365 entries, 0 to 364\n",
      "Data columns (total 3 columns):\n",
      " #   Column      Non-Null Count  Dtype         \n",
      "---  ------      --------------  -----         \n",
      " 0   Unnamed: 0  365 non-null    int64         \n",
      " 1   Date        365 non-null    datetime64[ns]\n",
      " 2   Sales       365 non-null    float64       \n",
      "dtypes: datetime64[ns](1), float64(1), int64(1)\n",
      "memory usage: 8.7 KB\n"
     ]
    }
   ],
   "source": [
    "df.info()"
   ]
  },
  {
   "cell_type": "code",
   "execution_count": 37,
   "id": "a728b4f9",
   "metadata": {},
   "outputs": [
    {
     "data": {
      "text/html": [
       "<div>\n",
       "<style scoped>\n",
       "    .dataframe tbody tr th:only-of-type {\n",
       "        vertical-align: middle;\n",
       "    }\n",
       "\n",
       "    .dataframe tbody tr th {\n",
       "        vertical-align: top;\n",
       "    }\n",
       "\n",
       "    .dataframe thead th {\n",
       "        text-align: right;\n",
       "    }\n",
       "</style>\n",
       "<table border=\"1\" class=\"dataframe\">\n",
       "  <thead>\n",
       "    <tr style=\"text-align: right;\">\n",
       "      <th></th>\n",
       "      <th>Sales</th>\n",
       "    </tr>\n",
       "    <tr>\n",
       "      <th>Date</th>\n",
       "      <th></th>\n",
       "    </tr>\n",
       "  </thead>\n",
       "  <tbody>\n",
       "    <tr>\n",
       "      <th>2021-10-01</th>\n",
       "      <td>29.109547</td>\n",
       "    </tr>\n",
       "    <tr>\n",
       "      <th>2021-10-02</th>\n",
       "      <td>30.720435</td>\n",
       "    </tr>\n",
       "    <tr>\n",
       "      <th>2021-10-03</th>\n",
       "      <td>30.305173</td>\n",
       "    </tr>\n",
       "    <tr>\n",
       "      <th>2021-10-04</th>\n",
       "      <td>27.390893</td>\n",
       "    </tr>\n",
       "    <tr>\n",
       "      <th>2021-10-05</th>\n",
       "      <td>22.841123</td>\n",
       "    </tr>\n",
       "  </tbody>\n",
       "</table>\n",
       "</div>"
      ],
      "text/plain": [
       "                Sales\n",
       "Date                 \n",
       "2021-10-01  29.109547\n",
       "2021-10-02  30.720435\n",
       "2021-10-03  30.305173\n",
       "2021-10-04  27.390893\n",
       "2021-10-05  22.841123"
      ]
     },
     "execution_count": 37,
     "metadata": {},
     "output_type": "execute_result"
    }
   ],
   "source": [
    "ts = (\n",
    "    df\n",
    "    .set_index(['Date'])\n",
    "    .loc[:,['Sales']]\n",
    ")\n",
    "ts.head()"
   ]
  },
  {
   "cell_type": "code",
   "execution_count": 38,
   "id": "ad65de9d",
   "metadata": {},
   "outputs": [],
   "source": [
    "def create_ts_series (data, steps):\n",
    "    \n",
    "    X, y = list(), list()\n",
    "    \n",
    "    for i in range(len(data) - steps):\n",
    "        X.append(data[i:(i+steps)])\n",
    "        y.append(data[i+steps])\n",
    "    \n",
    "    return np.array(X), np.array(y)"
   ]
  },
  {
   "cell_type": "code",
   "execution_count": 39,
   "id": "90ca2b87",
   "metadata": {},
   "outputs": [],
   "source": [
    "reshape_test = ts.to_numpy()[:,0]\n",
    "n_steps = 20\n",
    "X, y = create_ts_series(reshape_test, n_steps) "
   ]
  },
  {
   "cell_type": "code",
   "execution_count": 58,
   "id": "472add9e",
   "metadata": {},
   "outputs": [
    {
     "data": {
      "text/plain": [
       "345"
      ]
     },
     "execution_count": 58,
     "metadata": {},
     "output_type": "execute_result"
    }
   ],
   "source": [
    "n_samples = y.shape[0]\n",
    "n_samples"
   ]
  },
  {
   "cell_type": "code",
   "execution_count": 59,
   "id": "55fa0d09",
   "metadata": {},
   "outputs": [],
   "source": [
    "X_train = X[:250, :].copy()\n",
    "y_train = y[:250].copy()\n",
    "X_test = X[250:, :].copy()\n",
    "y_test = y[250:].copy()"
   ]
  },
  {
   "cell_type": "code",
   "execution_count": 60,
   "id": "71065f95",
   "metadata": {},
   "outputs": [
    {
     "data": {
      "text/plain": [
       "array([34.67261139, 30.50712906, 38.21041786, 41.38558777, 43.3178696 ,\n",
       "       42.58548158, 39.29374178, 34.50746111, 31.59903735, 38.66899841,\n",
       "       41.23495379, 45.3404509 , 42.63438511, 40.68637705, 35.25990873,\n",
       "       34.58856565, 35.90925219, 42.90663974, 45.36009635, 44.97828118,\n",
       "       38.87191244, 34.84253793, 36.63363851, 36.24448973, 41.90954475,\n",
       "       46.15716955, 44.12415992, 40.43295368, 35.27411602, 35.0497777 ,\n",
       "       36.3479787 , 44.05362513, 45.25211414, 43.69625675, 40.86638308,\n",
       "       35.56284526, 33.69546334, 36.65778805, 43.4392676 , 45.56070475,\n",
       "       44.59273339, 41.62774381, 35.24673924, 34.64904406, 37.96962574,\n",
       "       43.18984604, 46.02810673, 44.78954776, 40.8383736 , 36.61625977,\n",
       "       35.01011743, 37.89151256, 43.72001081, 45.5293631 , 44.26907969,\n",
       "       40.93770775, 36.91589803, 38.33644531, 38.34980528, 44.73875517,\n",
       "       47.51746652, 44.58749   , 42.37325298, 36.23968441, 33.77054958,\n",
       "       40.01082508, 42.38960386, 47.57121265, 45.44242406, 43.6095508 ,\n",
       "       38.84207445, 36.32633601, 39.06666794, 43.28141704, 47.02935555,\n",
       "       46.19607946, 41.93530646, 38.2802689 , 37.70824331, 40.45416001,\n",
       "       44.08135052, 46.38248671, 48.1909668 , 41.96055082, 37.82127145,\n",
       "       36.9585325 , 38.611436  , 44.71752044, 47.69062237, 47.79679325,\n",
       "       43.69845715, 38.82733594, 38.76157019, 41.14447054, 45.52981234])"
      ]
     },
     "execution_count": 60,
     "metadata": {},
     "output_type": "execute_result"
    }
   ],
   "source": [
    "y_test"
   ]
  },
  {
   "cell_type": "code",
   "execution_count": 61,
   "id": "33dd5ef7",
   "metadata": {},
   "outputs": [],
   "source": [
    "from sklearn.preprocessing import StandardScaler\n",
    "\n",
    "scaler = StandardScaler()\n",
    "\n",
    "Dt_train = scaler.fit_transform(np.column_stack((X_train, y_train.reshape(-1, 1))))\n",
    "Dt_test = scaler.transform(np.column_stack((X_test, y_test.reshape(-1, 1))))\n",
    "X_train, y_train = Dt_train[:, :20], np.squeeze(Dt_train[:, 20]) \n",
    "X_test, y_test = Dt_test[:, :20], np.squeeze(Dt_test[:, 20]) "
   ]
  },
  {
   "cell_type": "code",
   "execution_count": 62,
   "id": "99a9b3d9",
   "metadata": {},
   "outputs": [],
   "source": [
    "n_train_samples, n_test_samples, n_steps, n_features = X_train.shape[0], X_test.shape[0], X.shape[1], 1\n",
    "X_train = X_train.reshape((n_train_samples, n_steps, n_features))\n",
    "X_test = X_test.reshape((n_test_samples, n_steps, n_features))"
   ]
  },
  {
   "cell_type": "code",
   "execution_count": 74,
   "id": "8f5d50f9",
   "metadata": {},
   "outputs": [
    {
     "data": {
      "text/html": [
       "<pre style=\"white-space:pre;overflow-x:auto;line-height:normal;font-family:Menlo,'DejaVu Sans Mono',consolas,'Courier New',monospace\"><span style=\"font-weight: bold\">Model: \"sequential_3\"</span>\n",
       "</pre>\n"
      ],
      "text/plain": [
       "\u001b[1mModel: \"sequential_3\"\u001b[0m\n"
      ]
     },
     "metadata": {},
     "output_type": "display_data"
    },
    {
     "data": {
      "text/html": [
       "<pre style=\"white-space:pre;overflow-x:auto;line-height:normal;font-family:Menlo,'DejaVu Sans Mono',consolas,'Courier New',monospace\">┏━━━━━━━━━━━━━━━━━━━━━━━━━━━━━━━━━┳━━━━━━━━━━━━━━━━━━━━━━━━┳━━━━━━━━━━━━━━━┓\n",
       "┃<span style=\"font-weight: bold\"> Layer (type)                    </span>┃<span style=\"font-weight: bold\"> Output Shape           </span>┃<span style=\"font-weight: bold\">       Param # </span>┃\n",
       "┡━━━━━━━━━━━━━━━━━━━━━━━━━━━━━━━━━╇━━━━━━━━━━━━━━━━━━━━━━━━╇━━━━━━━━━━━━━━━┩\n",
       "│ lstm_3 (<span style=\"color: #0087ff; text-decoration-color: #0087ff\">LSTM</span>)                   │ (<span style=\"color: #00d7ff; text-decoration-color: #00d7ff\">None</span>, <span style=\"color: #00af00; text-decoration-color: #00af00\">10</span>)             │           <span style=\"color: #00af00; text-decoration-color: #00af00\">480</span> │\n",
       "├─────────────────────────────────┼────────────────────────┼───────────────┤\n",
       "│ dropout_5 (<span style=\"color: #0087ff; text-decoration-color: #0087ff\">Dropout</span>)             │ (<span style=\"color: #00d7ff; text-decoration-color: #00d7ff\">None</span>, <span style=\"color: #00af00; text-decoration-color: #00af00\">10</span>)             │             <span style=\"color: #00af00; text-decoration-color: #00af00\">0</span> │\n",
       "├─────────────────────────────────┼────────────────────────┼───────────────┤\n",
       "│ dense_5 (<span style=\"color: #0087ff; text-decoration-color: #0087ff\">Dense</span>)                 │ (<span style=\"color: #00d7ff; text-decoration-color: #00d7ff\">None</span>, <span style=\"color: #00af00; text-decoration-color: #00af00\">1</span>)              │            <span style=\"color: #00af00; text-decoration-color: #00af00\">11</span> │\n",
       "└─────────────────────────────────┴────────────────────────┴───────────────┘\n",
       "</pre>\n"
      ],
      "text/plain": [
       "┏━━━━━━━━━━━━━━━━━━━━━━━━━━━━━━━━━┳━━━━━━━━━━━━━━━━━━━━━━━━┳━━━━━━━━━━━━━━━┓\n",
       "┃\u001b[1m \u001b[0m\u001b[1mLayer (type)                   \u001b[0m\u001b[1m \u001b[0m┃\u001b[1m \u001b[0m\u001b[1mOutput Shape          \u001b[0m\u001b[1m \u001b[0m┃\u001b[1m \u001b[0m\u001b[1m      Param #\u001b[0m\u001b[1m \u001b[0m┃\n",
       "┡━━━━━━━━━━━━━━━━━━━━━━━━━━━━━━━━━╇━━━━━━━━━━━━━━━━━━━━━━━━╇━━━━━━━━━━━━━━━┩\n",
       "│ lstm_3 (\u001b[38;5;33mLSTM\u001b[0m)                   │ (\u001b[38;5;45mNone\u001b[0m, \u001b[38;5;34m10\u001b[0m)             │           \u001b[38;5;34m480\u001b[0m │\n",
       "├─────────────────────────────────┼────────────────────────┼───────────────┤\n",
       "│ dropout_5 (\u001b[38;5;33mDropout\u001b[0m)             │ (\u001b[38;5;45mNone\u001b[0m, \u001b[38;5;34m10\u001b[0m)             │             \u001b[38;5;34m0\u001b[0m │\n",
       "├─────────────────────────────────┼────────────────────────┼───────────────┤\n",
       "│ dense_5 (\u001b[38;5;33mDense\u001b[0m)                 │ (\u001b[38;5;45mNone\u001b[0m, \u001b[38;5;34m1\u001b[0m)              │            \u001b[38;5;34m11\u001b[0m │\n",
       "└─────────────────────────────────┴────────────────────────┴───────────────┘\n"
      ]
     },
     "metadata": {},
     "output_type": "display_data"
    },
    {
     "data": {
      "text/html": [
       "<pre style=\"white-space:pre;overflow-x:auto;line-height:normal;font-family:Menlo,'DejaVu Sans Mono',consolas,'Courier New',monospace\"><span style=\"font-weight: bold\"> Total params: </span><span style=\"color: #00af00; text-decoration-color: #00af00\">491</span> (1.92 KB)\n",
       "</pre>\n"
      ],
      "text/plain": [
       "\u001b[1m Total params: \u001b[0m\u001b[38;5;34m491\u001b[0m (1.92 KB)\n"
      ]
     },
     "metadata": {},
     "output_type": "display_data"
    },
    {
     "data": {
      "text/html": [
       "<pre style=\"white-space:pre;overflow-x:auto;line-height:normal;font-family:Menlo,'DejaVu Sans Mono',consolas,'Courier New',monospace\"><span style=\"font-weight: bold\"> Trainable params: </span><span style=\"color: #00af00; text-decoration-color: #00af00\">491</span> (1.92 KB)\n",
       "</pre>\n"
      ],
      "text/plain": [
       "\u001b[1m Trainable params: \u001b[0m\u001b[38;5;34m491\u001b[0m (1.92 KB)\n"
      ]
     },
     "metadata": {},
     "output_type": "display_data"
    },
    {
     "data": {
      "text/html": [
       "<pre style=\"white-space:pre;overflow-x:auto;line-height:normal;font-family:Menlo,'DejaVu Sans Mono',consolas,'Courier New',monospace\"><span style=\"font-weight: bold\"> Non-trainable params: </span><span style=\"color: #00af00; text-decoration-color: #00af00\">0</span> (0.00 B)\n",
       "</pre>\n"
      ],
      "text/plain": [
       "\u001b[1m Non-trainable params: \u001b[0m\u001b[38;5;34m0\u001b[0m (0.00 B)\n"
      ]
     },
     "metadata": {},
     "output_type": "display_data"
    }
   ],
   "source": [
    "lstm_model = keras.Sequential()\n",
    "\n",
    "lstm_model.add(layers.Input(shape = (n_steps, n_features)))\n",
    "lstm_model.add(layers.LSTM(units=10, kernel_regularizer=regularizers.l2(0.001)))\n",
    "lstm_model.add(layers.Dropout(0.2)) \n",
    "lstm_model.add(layers.Dense(units=1, activation='relu'))\n",
    "\n",
    "lstm_model.compile(optimizer=keras.optimizers.Adam(learning_rate=.001), loss='mae', metrics=['mae'])\n",
    "\n",
    "lstm_model.summary()\n"
   ]
  },
  {
   "cell_type": "code",
   "execution_count": 75,
   "id": "1bdea2ed",
   "metadata": {},
   "outputs": [
    {
     "name": "stdout",
     "output_type": "stream",
     "text": [
      "Epoch 1/60\n",
      "\u001b[1m2/2\u001b[0m \u001b[32m━━━━━━━━━━━━━━━━━━━━\u001b[0m\u001b[37m\u001b[0m \u001b[1m3s\u001b[0m 514ms/step - loss: 0.8014 - mae: 0.7999 - val_loss: 1.3306 - val_mae: 1.3290\n",
      "Epoch 2/60\n",
      "\u001b[1m2/2\u001b[0m \u001b[32m━━━━━━━━━━━━━━━━━━━━\u001b[0m\u001b[37m\u001b[0m \u001b[1m0s\u001b[0m 105ms/step - loss: 0.8035 - mae: 0.8020 - val_loss: 1.3011 - val_mae: 1.2995\n",
      "Epoch 3/60\n",
      "\u001b[1m2/2\u001b[0m \u001b[32m━━━━━━━━━━━━━━━━━━━━\u001b[0m\u001b[37m\u001b[0m \u001b[1m0s\u001b[0m 104ms/step - loss: 0.7959 - mae: 0.7943 - val_loss: 1.2722 - val_mae: 1.2707\n",
      "Epoch 4/60\n",
      "\u001b[1m2/2\u001b[0m \u001b[32m━━━━━━━━━━━━━━━━━━━━\u001b[0m\u001b[37m\u001b[0m \u001b[1m0s\u001b[0m 103ms/step - loss: 0.7973 - mae: 0.7957 - val_loss: 1.2430 - val_mae: 1.2414\n",
      "Epoch 5/60\n",
      "\u001b[1m2/2\u001b[0m \u001b[32m━━━━━━━━━━━━━━━━━━━━\u001b[0m\u001b[37m\u001b[0m \u001b[1m0s\u001b[0m 205ms/step - loss: 0.7926 - mae: 0.7910 - val_loss: 1.2144 - val_mae: 1.2129\n",
      "Epoch 6/60\n",
      "\u001b[1m2/2\u001b[0m \u001b[32m━━━━━━━━━━━━━━━━━━━━\u001b[0m\u001b[37m\u001b[0m \u001b[1m0s\u001b[0m 107ms/step - loss: 0.7927 - mae: 0.7912 - val_loss: 1.1852 - val_mae: 1.1837\n",
      "Epoch 7/60\n",
      "\u001b[1m2/2\u001b[0m \u001b[32m━━━━━━━━━━━━━━━━━━━━\u001b[0m\u001b[37m\u001b[0m \u001b[1m0s\u001b[0m 105ms/step - loss: 0.7894 - mae: 0.7878 - val_loss: 1.1561 - val_mae: 1.1546\n",
      "Epoch 8/60\n",
      "\u001b[1m2/2\u001b[0m \u001b[32m━━━━━━━━━━━━━━━━━━━━\u001b[0m\u001b[37m\u001b[0m \u001b[1m0s\u001b[0m 123ms/step - loss: 0.7876 - mae: 0.7860 - val_loss: 1.1258 - val_mae: 1.1243\n",
      "Epoch 9/60\n",
      "\u001b[1m2/2\u001b[0m \u001b[32m━━━━━━━━━━━━━━━━━━━━\u001b[0m\u001b[37m\u001b[0m \u001b[1m0s\u001b[0m 107ms/step - loss: 0.7880 - mae: 0.7865 - val_loss: 1.0961 - val_mae: 1.0945\n",
      "Epoch 10/60\n",
      "\u001b[1m2/2\u001b[0m \u001b[32m━━━━━━━━━━━━━━━━━━━━\u001b[0m\u001b[37m\u001b[0m \u001b[1m0s\u001b[0m 103ms/step - loss: 0.7818 - mae: 0.7802 - val_loss: 1.0669 - val_mae: 1.0653\n",
      "Epoch 11/60\n",
      "\u001b[1m2/2\u001b[0m \u001b[32m━━━━━━━━━━━━━━━━━━━━\u001b[0m\u001b[37m\u001b[0m \u001b[1m0s\u001b[0m 103ms/step - loss: 0.7817 - mae: 0.7801 - val_loss: 1.0396 - val_mae: 1.0380\n",
      "Epoch 12/60\n",
      "\u001b[1m2/2\u001b[0m \u001b[32m━━━━━━━━━━━━━━━━━━━━\u001b[0m\u001b[37m\u001b[0m \u001b[1m0s\u001b[0m 103ms/step - loss: 0.7837 - mae: 0.7822 - val_loss: 1.0136 - val_mae: 1.0121\n",
      "Epoch 13/60\n",
      "\u001b[1m2/2\u001b[0m \u001b[32m━━━━━━━━━━━━━━━━━━━━\u001b[0m\u001b[37m\u001b[0m \u001b[1m0s\u001b[0m 106ms/step - loss: 0.7821 - mae: 0.7806 - val_loss: 0.9879 - val_mae: 0.9864\n",
      "Epoch 14/60\n",
      "\u001b[1m2/2\u001b[0m \u001b[32m━━━━━━━━━━━━━━━━━━━━\u001b[0m\u001b[37m\u001b[0m \u001b[1m0s\u001b[0m 109ms/step - loss: 0.7809 - mae: 0.7793 - val_loss: 0.9623 - val_mae: 0.9608\n",
      "Epoch 15/60\n",
      "\u001b[1m2/2\u001b[0m \u001b[32m━━━━━━━━━━━━━━━━━━━━\u001b[0m\u001b[37m\u001b[0m \u001b[1m0s\u001b[0m 107ms/step - loss: 0.7732 - mae: 0.7716 - val_loss: 0.9392 - val_mae: 0.9377\n",
      "Epoch 16/60\n",
      "\u001b[1m2/2\u001b[0m \u001b[32m━━━━━━━━━━━━━━━━━━━━\u001b[0m\u001b[37m\u001b[0m \u001b[1m0s\u001b[0m 115ms/step - loss: 0.7713 - mae: 0.7697 - val_loss: 0.9177 - val_mae: 0.9161\n",
      "Epoch 17/60\n",
      "\u001b[1m2/2\u001b[0m \u001b[32m━━━━━━━━━━━━━━━━━━━━\u001b[0m\u001b[37m\u001b[0m \u001b[1m0s\u001b[0m 110ms/step - loss: 0.7795 - mae: 0.7779 - val_loss: 0.8980 - val_mae: 0.8964\n",
      "Epoch 18/60\n",
      "\u001b[1m2/2\u001b[0m \u001b[32m━━━━━━━━━━━━━━━━━━━━\u001b[0m\u001b[37m\u001b[0m \u001b[1m0s\u001b[0m 105ms/step - loss: 0.7825 - mae: 0.7809 - val_loss: 0.8805 - val_mae: 0.8790\n",
      "Epoch 19/60\n",
      "\u001b[1m2/2\u001b[0m \u001b[32m━━━━━━━━━━━━━━━━━━━━\u001b[0m\u001b[37m\u001b[0m \u001b[1m0s\u001b[0m 107ms/step - loss: 0.7740 - mae: 0.7724 - val_loss: 0.8655 - val_mae: 0.8639\n",
      "Epoch 20/60\n",
      "\u001b[1m2/2\u001b[0m \u001b[32m━━━━━━━━━━━━━━━━━━━━\u001b[0m\u001b[37m\u001b[0m \u001b[1m0s\u001b[0m 106ms/step - loss: 0.7697 - mae: 0.7682 - val_loss: 0.8518 - val_mae: 0.8502\n",
      "Epoch 21/60\n",
      "\u001b[1m2/2\u001b[0m \u001b[32m━━━━━━━━━━━━━━━━━━━━\u001b[0m\u001b[37m\u001b[0m \u001b[1m0s\u001b[0m 107ms/step - loss: 0.7695 - mae: 0.7679 - val_loss: 0.8389 - val_mae: 0.8374\n",
      "Epoch 22/60\n",
      "\u001b[1m2/2\u001b[0m \u001b[32m━━━━━━━━━━━━━━━━━━━━\u001b[0m\u001b[37m\u001b[0m \u001b[1m0s\u001b[0m 105ms/step - loss: 0.7761 - mae: 0.7746 - val_loss: 0.8272 - val_mae: 0.8256\n",
      "Epoch 23/60\n",
      "\u001b[1m2/2\u001b[0m \u001b[32m━━━━━━━━━━━━━━━━━━━━\u001b[0m\u001b[37m\u001b[0m \u001b[1m0s\u001b[0m 109ms/step - loss: 0.7682 - mae: 0.7667 - val_loss: 0.8149 - val_mae: 0.8133\n",
      "Epoch 24/60\n",
      "\u001b[1m2/2\u001b[0m \u001b[32m━━━━━━━━━━━━━━━━━━━━\u001b[0m\u001b[37m\u001b[0m \u001b[1m0s\u001b[0m 108ms/step - loss: 0.7632 - mae: 0.7616 - val_loss: 0.8049 - val_mae: 0.8033\n",
      "Epoch 25/60\n",
      "\u001b[1m2/2\u001b[0m \u001b[32m━━━━━━━━━━━━━━━━━━━━\u001b[0m\u001b[37m\u001b[0m \u001b[1m0s\u001b[0m 109ms/step - loss: 0.7717 - mae: 0.7701 - val_loss: 0.7995 - val_mae: 0.7979\n",
      "Epoch 26/60\n",
      "\u001b[1m2/2\u001b[0m \u001b[32m━━━━━━━━━━━━━━━━━━━━\u001b[0m\u001b[37m\u001b[0m \u001b[1m0s\u001b[0m 107ms/step - loss: 0.7756 - mae: 0.7740 - val_loss: 0.7944 - val_mae: 0.7929\n",
      "Epoch 27/60\n",
      "\u001b[1m2/2\u001b[0m \u001b[32m━━━━━━━━━━━━━━━━━━━━\u001b[0m\u001b[37m\u001b[0m \u001b[1m0s\u001b[0m 105ms/step - loss: 0.7702 - mae: 0.7686 - val_loss: 0.7928 - val_mae: 0.7913\n",
      "Epoch 28/60\n",
      "\u001b[1m2/2\u001b[0m \u001b[32m━━━━━━━━━━━━━━━━━━━━\u001b[0m\u001b[37m\u001b[0m \u001b[1m0s\u001b[0m 103ms/step - loss: 0.7674 - mae: 0.7659 - val_loss: 0.7894 - val_mae: 0.7879\n",
      "Epoch 29/60\n",
      "\u001b[1m2/2\u001b[0m \u001b[32m━━━━━━━━━━━━━━━━━━━━\u001b[0m\u001b[37m\u001b[0m \u001b[1m0s\u001b[0m 105ms/step - loss: 0.7684 - mae: 0.7668 - val_loss: 0.7874 - val_mae: 0.7858\n",
      "Epoch 30/60\n",
      "\u001b[1m2/2\u001b[0m \u001b[32m━━━━━━━━━━━━━━━━━━━━\u001b[0m\u001b[37m\u001b[0m \u001b[1m0s\u001b[0m 105ms/step - loss: 0.7656 - mae: 0.7640 - val_loss: 0.7843 - val_mae: 0.7827\n",
      "Epoch 31/60\n",
      "\u001b[1m2/2\u001b[0m \u001b[32m━━━━━━━━━━━━━━━━━━━━\u001b[0m\u001b[37m\u001b[0m \u001b[1m0s\u001b[0m 109ms/step - loss: 0.7698 - mae: 0.7682 - val_loss: 0.7842 - val_mae: 0.7827\n",
      "Epoch 32/60\n",
      "\u001b[1m2/2\u001b[0m \u001b[32m━━━━━━━━━━━━━━━━━━━━\u001b[0m\u001b[37m\u001b[0m \u001b[1m0s\u001b[0m 103ms/step - loss: 0.7680 - mae: 0.7665 - val_loss: 0.7844 - val_mae: 0.7829\n",
      "Epoch 33/60\n",
      "\u001b[1m2/2\u001b[0m \u001b[32m━━━━━━━━━━━━━━━━━━━━\u001b[0m\u001b[37m\u001b[0m \u001b[1m0s\u001b[0m 106ms/step - loss: 0.7679 - mae: 0.7663 - val_loss: 0.7815 - val_mae: 0.7800\n",
      "Epoch 34/60\n",
      "\u001b[1m2/2\u001b[0m \u001b[32m━━━━━━━━━━━━━━━━━━━━\u001b[0m\u001b[37m\u001b[0m \u001b[1m0s\u001b[0m 107ms/step - loss: 0.7582 - mae: 0.7567 - val_loss: 0.7805 - val_mae: 0.7789\n",
      "Epoch 35/60\n",
      "\u001b[1m2/2\u001b[0m \u001b[32m━━━━━━━━━━━━━━━━━━━━\u001b[0m\u001b[37m\u001b[0m \u001b[1m0s\u001b[0m 109ms/step - loss: 0.7651 - mae: 0.7636 - val_loss: 0.7792 - val_mae: 0.7776\n",
      "Epoch 36/60\n",
      "\u001b[1m2/2\u001b[0m \u001b[32m━━━━━━━━━━━━━━━━━━━━\u001b[0m\u001b[37m\u001b[0m \u001b[1m0s\u001b[0m 104ms/step - loss: 0.7627 - mae: 0.7612 - val_loss: 0.7779 - val_mae: 0.7763\n",
      "Epoch 37/60\n",
      "\u001b[1m2/2\u001b[0m \u001b[32m━━━━━━━━━━━━━━━━━━━━\u001b[0m\u001b[37m\u001b[0m \u001b[1m0s\u001b[0m 109ms/step - loss: 0.7722 - mae: 0.7707 - val_loss: 0.7782 - val_mae: 0.7767\n",
      "Epoch 38/60\n",
      "\u001b[1m2/2\u001b[0m \u001b[32m━━━━━━━━━━━━━━━━━━━━\u001b[0m\u001b[37m\u001b[0m \u001b[1m0s\u001b[0m 105ms/step - loss: 0.7605 - mae: 0.7590 - val_loss: 0.7833 - val_mae: 0.7818\n",
      "Epoch 39/60\n",
      "\u001b[1m2/2\u001b[0m \u001b[32m━━━━━━━━━━━━━━━━━━━━\u001b[0m\u001b[37m\u001b[0m \u001b[1m0s\u001b[0m 107ms/step - loss: 0.7673 - mae: 0.7658 - val_loss: 0.7853 - val_mae: 0.7838\n",
      "Epoch 40/60\n",
      "\u001b[1m2/2\u001b[0m \u001b[32m━━━━━━━━━━━━━━━━━━━━\u001b[0m\u001b[37m\u001b[0m \u001b[1m0s\u001b[0m 104ms/step - loss: 0.7580 - mae: 0.7565 - val_loss: 0.7840 - val_mae: 0.7825\n",
      "Epoch 41/60\n",
      "\u001b[1m2/2\u001b[0m \u001b[32m━━━━━━━━━━━━━━━━━━━━\u001b[0m\u001b[37m\u001b[0m \u001b[1m0s\u001b[0m 124ms/step - loss: 0.7670 - mae: 0.7655 - val_loss: 0.7823 - val_mae: 0.7808\n",
      "Epoch 42/60\n",
      "\u001b[1m2/2\u001b[0m \u001b[32m━━━━━━━━━━━━━━━━━━━━\u001b[0m\u001b[37m\u001b[0m \u001b[1m0s\u001b[0m 103ms/step - loss: 0.7694 - mae: 0.7679 - val_loss: 0.7832 - val_mae: 0.7816\n",
      "Epoch 43/60\n",
      "\u001b[1m2/2\u001b[0m \u001b[32m━━━━━━━━━━━━━━━━━━━━\u001b[0m\u001b[37m\u001b[0m \u001b[1m0s\u001b[0m 108ms/step - loss: 0.7616 - mae: 0.7601 - val_loss: 0.7832 - val_mae: 0.7816\n",
      "Epoch 44/60\n",
      "\u001b[1m2/2\u001b[0m \u001b[32m━━━━━━━━━━━━━━━━━━━━\u001b[0m\u001b[37m\u001b[0m \u001b[1m0s\u001b[0m 104ms/step - loss: 0.7582 - mae: 0.7567 - val_loss: 0.7785 - val_mae: 0.7769\n",
      "Epoch 45/60\n",
      "\u001b[1m2/2\u001b[0m \u001b[32m━━━━━━━━━━━━━━━━━━━━\u001b[0m\u001b[37m\u001b[0m \u001b[1m0s\u001b[0m 105ms/step - loss: 0.7588 - mae: 0.7573 - val_loss: 0.7743 - val_mae: 0.7728\n",
      "Epoch 46/60\n",
      "\u001b[1m2/2\u001b[0m \u001b[32m━━━━━━━━━━━━━━━━━━━━\u001b[0m\u001b[37m\u001b[0m \u001b[1m0s\u001b[0m 108ms/step - loss: 0.7603 - mae: 0.7588 - val_loss: 0.7684 - val_mae: 0.7669\n",
      "Epoch 47/60\n",
      "\u001b[1m2/2\u001b[0m \u001b[32m━━━━━━━━━━━━━━━━━━━━\u001b[0m\u001b[37m\u001b[0m \u001b[1m0s\u001b[0m 108ms/step - loss: 0.7522 - mae: 0.7507 - val_loss: 0.7602 - val_mae: 0.7587\n",
      "Epoch 48/60\n",
      "\u001b[1m2/2\u001b[0m \u001b[32m━━━━━━━━━━━━━━━━━━━━\u001b[0m\u001b[37m\u001b[0m \u001b[1m0s\u001b[0m 107ms/step - loss: 0.7614 - mae: 0.7598 - val_loss: 0.7493 - val_mae: 0.7478\n",
      "Epoch 49/60\n",
      "\u001b[1m2/2\u001b[0m \u001b[32m━━━━━━━━━━━━━━━━━━━━\u001b[0m\u001b[37m\u001b[0m \u001b[1m0s\u001b[0m 106ms/step - loss: 0.7577 - mae: 0.7562 - val_loss: 0.7401 - val_mae: 0.7386\n",
      "Epoch 50/60\n",
      "\u001b[1m2/2\u001b[0m \u001b[32m━━━━━━━━━━━━━━━━━━━━\u001b[0m\u001b[37m\u001b[0m \u001b[1m0s\u001b[0m 113ms/step - loss: 0.7630 - mae: 0.7615 - val_loss: 0.7323 - val_mae: 0.7308\n",
      "Epoch 51/60\n",
      "\u001b[1m2/2\u001b[0m \u001b[32m━━━━━━━━━━━━━━━━━━━━\u001b[0m\u001b[37m\u001b[0m \u001b[1m0s\u001b[0m 112ms/step - loss: 0.7614 - mae: 0.7599 - val_loss: 0.7269 - val_mae: 0.7253\n",
      "Epoch 52/60\n",
      "\u001b[1m2/2\u001b[0m \u001b[32m━━━━━━━━━━━━━━━━━━━━\u001b[0m\u001b[37m\u001b[0m \u001b[1m0s\u001b[0m 107ms/step - loss: 0.7614 - mae: 0.7599 - val_loss: 0.7241 - val_mae: 0.7226\n",
      "Epoch 53/60\n",
      "\u001b[1m2/2\u001b[0m \u001b[32m━━━━━━━━━━━━━━━━━━━━\u001b[0m\u001b[37m\u001b[0m \u001b[1m0s\u001b[0m 104ms/step - loss: 0.7656 - mae: 0.7641 - val_loss: 0.7238 - val_mae: 0.7222\n",
      "Epoch 54/60\n",
      "\u001b[1m2/2\u001b[0m \u001b[32m━━━━━━━━━━━━━━━━━━━━\u001b[0m\u001b[37m\u001b[0m \u001b[1m0s\u001b[0m 106ms/step - loss: 0.7625 - mae: 0.7610 - val_loss: 0.7261 - val_mae: 0.7245\n",
      "Epoch 55/60\n",
      "\u001b[1m2/2\u001b[0m \u001b[32m━━━━━━━━━━━━━━━━━━━━\u001b[0m\u001b[37m\u001b[0m \u001b[1m0s\u001b[0m 106ms/step - loss: 0.7566 - mae: 0.7551 - val_loss: 0.7281 - val_mae: 0.7266\n",
      "Epoch 56/60\n",
      "\u001b[1m2/2\u001b[0m \u001b[32m━━━━━━━━━━━━━━━━━━━━\u001b[0m\u001b[37m\u001b[0m \u001b[1m0s\u001b[0m 106ms/step - loss: 0.7562 - mae: 0.7546 - val_loss: 0.7329 - val_mae: 0.7314\n",
      "Epoch 57/60\n",
      "\u001b[1m2/2\u001b[0m \u001b[32m━━━━━━━━━━━━━━━━━━━━\u001b[0m\u001b[37m\u001b[0m \u001b[1m0s\u001b[0m 107ms/step - loss: 0.7588 - mae: 0.7573 - val_loss: 0.7398 - val_mae: 0.7383\n",
      "Epoch 58/60\n",
      "\u001b[1m2/2\u001b[0m \u001b[32m━━━━━━━━━━━━━━━━━━━━\u001b[0m\u001b[37m\u001b[0m \u001b[1m0s\u001b[0m 103ms/step - loss: 0.7632 - mae: 0.7617 - val_loss: 0.7474 - val_mae: 0.7459\n",
      "Epoch 59/60\n",
      "\u001b[1m2/2\u001b[0m \u001b[32m━━━━━━━━━━━━━━━━━━━━\u001b[0m\u001b[37m\u001b[0m \u001b[1m0s\u001b[0m 103ms/step - loss: 0.7684 - mae: 0.7669 - val_loss: 0.7534 - val_mae: 0.7519\n",
      "Epoch 60/60\n",
      "\u001b[1m2/2\u001b[0m \u001b[32m━━━━━━━━━━━━━━━━━━━━\u001b[0m\u001b[37m\u001b[0m \u001b[1m0s\u001b[0m 105ms/step - loss: 0.7677 - mae: 0.7662 - val_loss: 0.7645 - val_mae: 0.7630\n"
     ]
    },
    {
     "data": {
      "text/plain": [
       "<keras.src.callbacks.history.History at 0x7f584181a910>"
      ]
     },
     "execution_count": 75,
     "metadata": {},
     "output_type": "execute_result"
    }
   ],
   "source": [
    "early_stop = EarlyStopping(monitor='val_loss', patience=10, restore_best_weights=True)\n",
    "lstm_model.fit(X_train, y_train, batch_size=128, epochs=60, validation_data=(X_test, y_test), callbacks=[early_stop])"
   ]
  },
  {
   "cell_type": "code",
   "execution_count": 76,
   "id": "226a091d",
   "metadata": {},
   "outputs": [
    {
     "data": {
      "text/plain": [
       "[<matplotlib.lines.Line2D at 0x7f57e96e2390>]"
      ]
     },
     "execution_count": 76,
     "metadata": {},
     "output_type": "execute_result"
    },
    {
     "data": {
      "image/png": "[encoded data removed]",
      "text/plain": [
       "<Figure size 1600x800 with 1 Axes>"
      ]
     },
     "metadata": {},
     "output_type": "display_data"
    }
   ],
   "source": [
    "history = lstm_model.history\n",
    "\n",
    "\n",
    "fig = plt.figure(figsize=(16, 8))\n",
    "\n",
    "ax = fig.add_axes(rect=(0,0,1,1))\n",
    "\n",
    "ax.plot(history.history['val_loss'])\n",
    "ax.plot(history.history['loss'])"
   ]
  }
 ],
 "metadata": {
  "kernelspec": {
   "display_name": "deep-learning",
   "language": "python",
   "name": "python3"
  },
  "language_info": {
   "codemirror_mode": {
    "name": "ipython",
    "version": 3
   },
   "file_extension": ".py",
   "mimetype": "text/x-python",
   "name": "python",
   "nbconvert_exporter": "python",
   "pygments_lexer": "ipython3",
   "version": "3.11.13"
  }
 },
 "nbformat": 4,
 "nbformat_minor": 5
}
